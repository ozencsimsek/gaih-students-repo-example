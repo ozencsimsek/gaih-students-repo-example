{
 "cells": [
  {
   "cell_type": "code",
   "execution_count": 1,
   "metadata": {},
   "outputs": [
    {
     "name": "stdout",
     "output_type": "stream",
     "text": [
      "Öğrenci Adı-Soyadı: Metmet Güneş\n",
      "Midterm: 23\n",
      "Project: 21\n",
      "Final: 47\n",
      "Öğrenci Adı-Soyadı: Elif Bayraktar\n",
      "Midterm: 78\n",
      "Project: 90\n",
      "Final: 93\n",
      "Öğrenci Adı-Soyadı: Ömer Aşık\n",
      "Midterm: 55\n",
      "Project: 78\n",
      "Final: 92\n",
      "Öğrenci Adı-Soyadı: Mahmut Pars Aydın\n",
      "Midterm: 90\n",
      "Project: 66\n",
      "Final: 85\n",
      "Öğrenci Adı-Soyadı: Ceren Gündüz\n",
      "Midterm: 90\n",
      "Project: 75\n",
      "Final: 55\n"
     ]
    }
   ],
   "source": [
    "#Create 5 students. Ask these students from the user. \n",
    "#Each of these students should have a midterm grade, project grade, and a final grade.\n",
    "#Each student will have a course passing grade.\n",
    "#Passing grade = midterm*(0.3) + project*(0.3) + final*(0.4) passing grade should be determined like this.\n",
    "\n",
    "student = 0\n",
    "\n",
    "while True:\n",
    "    ad = input(\"Öğrenci Adı-Soyadı: \")\n",
    "    midterm = int(input(\"Midterm: \"))\n",
    "    project = int(input(\"Project: \"))\n",
    "    final = int(input(\"Final: \"))\n",
    "    \n",
    "    student += 1\n",
    "    \n",
    "    if student == 5:\n",
    "        break"
   ]
  },
  {
   "cell_type": "code",
   "execution_count": 11,
   "metadata": {},
   "outputs": [],
   "source": [
    "#Create a dictionary that keeps students' information.\n",
    "\n",
    "student1 = {\"Ad-Soyad\":\"Metmet Güneş\", \"Midterm\":23, \"Project\":21, \"Final\":47}\n",
    "student2 = {\"Ad-Soyad\":\"Elif Bayraktar\", \"Midterm\":78, \"Project\":90, \"Final\":93}\n",
    "student3 = {\"Ad-Soyad\":\"Ömer Aşık\", \"Midterm\":55, \"Project\":78, \"Final\":92}\n",
    "student4 = {\"Ad-Soyad\":\"Mahmut Pars Aydın\", \"Midterm\":90, \"Project\":66, \"Final\":85}\n",
    "student5 = {\"Ad-Soyad\":\"Ceren Gündüz\", \"Midterm\":90, \"Project\":75, \"Final\":55}"
   ]
  },
  {
   "cell_type": "code",
   "execution_count": 12,
   "metadata": {},
   "outputs": [
    {
     "data": {
      "text/plain": [
       "[87.6, 80.8, 76.7, 71.5, 32.0]"
      ]
     },
     "execution_count": 12,
     "metadata": {},
     "output_type": "execute_result"
    }
   ],
   "source": [
    "#Calculate the students' grades and transfer them to the list with the help of indexing.\n",
    "#Finally, set the student with the highest grade to be in the first index and the student with the lowest grade to be in the last index of the list.\n",
    "\n",
    "grade1 = student1[\"Midterm\"]*0.3 + student1[\"Project\"]*(0.3) + student1[\"Final\"]*(0.4)\n",
    "grade2 = student2[\"Midterm\"]*0.3 + student2[\"Project\"]*(0.3) + student2[\"Final\"]*(0.4)\n",
    "grade3 = student3[\"Midterm\"]*0.3 + student3[\"Project\"]*(0.3) + student3[\"Final\"]*(0.4)\n",
    "grade4 = student4[\"Midterm\"]*0.3 + student4[\"Project\"]*(0.3) + student4[\"Final\"]*(0.4)\n",
    "grade5 = student5[\"Midterm\"]*0.3 + student5[\"Project\"]*(0.3) + student5[\"Final\"]*(0.4)\n",
    "passingGrade = [grade1, grade2, grade3, grade4, grade5]\n",
    "\n",
    "passingGrade.sort(reverse = True)\n",
    "\n",
    "passingGrade"
   ]
  },
  {
   "cell_type": "code",
   "execution_count": null,
   "metadata": {},
   "outputs": [],
   "source": []
  }
 ],
 "metadata": {
  "kernelspec": {
   "display_name": "Python 3",
   "language": "python",
   "name": "python3"
  },
  "language_info": {
   "codemirror_mode": {
    "name": "ipython",
    "version": 3
   },
   "file_extension": ".py",
   "mimetype": "text/x-python",
   "name": "python",
   "nbconvert_exporter": "python",
   "pygments_lexer": "ipython3",
   "version": "3.8.3"
  }
 },
 "nbformat": 4,
 "nbformat_minor": 4
}
