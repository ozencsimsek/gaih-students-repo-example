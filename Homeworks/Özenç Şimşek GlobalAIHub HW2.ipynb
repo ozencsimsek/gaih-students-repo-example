{
 "cells": [
  {
   "cell_type": "code",
   "execution_count": 2,
   "metadata": {},
   "outputs": [
    {
     "data": {
      "text/plain": [
       "{'ad': 'ahmet',\n",
       " 'soyad': 'bayraktaroğlu',\n",
       " 'yas': 36,\n",
       " 'meslek': 'ekonomist',\n",
       " 'egitim': 'yukseklisans',\n",
       " 'bildigi_programlar': 'python,javascpipt'}"
      ]
     },
     "execution_count": 2,
     "metadata": {},
     "output_type": "execute_result"
    }
   ],
   "source": [
    "kisi_1 = {\"ad\":\"ahmet\",\"soyad\":\"bayraktaroğlu\",\"yas\":36,\"meslek\":\"ekonomist\",\"egitim\":\"yukseklisans\",\"bildigi_programlar\":\"python,javascpipt\"} \n",
    "kisi_2 = {\"ad\":\"can\",\"soyad\":\"yıldırım\",\"yas\":39,\"meslek\":\"diş hekimi\",\"egitim\":\"yukseklisans\",\"bildigi_programlar\":\"python,java\"}\n",
    "kisi_3 = {\"ad\":\"rıza\",\"soyad\":\"kaya\",\"yas\":41,\"meslek\":\"muhendis\",\"egitim\":\"lisans\",\"bildigi_programlar\":\"r,python,c,csharp,matlab\"}\n",
    "kisi_4 = {\"ad\":\"kaan\",\"soyad\":\"şimşek\",\"yas\":51,\"meslek\":\"doktor\",\"egitim\":\"lisans\",\"bildigi_programlar\":\"python,c,csharp\"}\n",
    "kisi_5 = {\"ad\":\"doğan\",\"soyad\":\"uzun\",\"yas\":48,\"meslek\":\"tekniker\",\"egitim\":\"onlisans\",\"bildigi_programlar\":\"python,c++,matlab\"}\n",
    "kisi_1"
   ]
  },
  {
   "cell_type": "code",
   "execution_count": 3,
   "metadata": {},
   "outputs": [
    {
     "data": {
      "text/plain": [
       "{'ad': 'can',\n",
       " 'soyad': 'yıldırım',\n",
       " 'yas': 39,\n",
       " 'meslek': 'diş hekimi',\n",
       " 'egitim': 'yukseklisans',\n",
       " 'bildigi_programlar': 'python,java'}"
      ]
     },
     "execution_count": 3,
     "metadata": {},
     "output_type": "execute_result"
    }
   ],
   "source": [
    "kisi_2"
   ]
  },
  {
   "cell_type": "code",
   "execution_count": 4,
   "metadata": {},
   "outputs": [
    {
     "data": {
      "text/plain": [
       "{'ad': 'rıza',\n",
       " 'soyad': 'kaya',\n",
       " 'yas': 41,\n",
       " 'meslek': 'muhendis',\n",
       " 'egitim': 'lisans',\n",
       " 'bildigi_programlar': 'r,python,c,csharp,matlab'}"
      ]
     },
     "execution_count": 4,
     "metadata": {},
     "output_type": "execute_result"
    }
   ],
   "source": [
    "kisi_3"
   ]
  },
  {
   "cell_type": "code",
   "execution_count": 5,
   "metadata": {},
   "outputs": [
    {
     "data": {
      "text/plain": [
       "{'ad': 'kaan',\n",
       " 'soyad': 'şimşek',\n",
       " 'yas': 51,\n",
       " 'meslek': 'doktor',\n",
       " 'egitim': 'lisans',\n",
       " 'bildigi_programlar': 'python,c,csharp'}"
      ]
     },
     "execution_count": 5,
     "metadata": {},
     "output_type": "execute_result"
    }
   ],
   "source": [
    "kisi_4"
   ]
  },
  {
   "cell_type": "code",
   "execution_count": 6,
   "metadata": {},
   "outputs": [
    {
     "data": {
      "text/plain": [
       "{'ad': 'doğan',\n",
       " 'soyad': 'uzun',\n",
       " 'yas': 48,\n",
       " 'meslek': 'tekniker',\n",
       " 'egitim': 'onlisans',\n",
       " 'bildigi_programlar': 'python,c++,matlab'}"
      ]
     },
     "execution_count": 6,
     "metadata": {},
     "output_type": "execute_result"
    }
   ],
   "source": [
    "kisi_5"
   ]
  }
 ],
 "metadata": {
  "kernelspec": {
   "display_name": "Python 3",
   "language": "python",
   "name": "python3"
  },
  "language_info": {
   "codemirror_mode": {
    "name": "ipython",
    "version": 3
   },
   "file_extension": ".py",
   "mimetype": "text/x-python",
   "name": "python",
   "nbconvert_exporter": "python",
   "pygments_lexer": "ipython3",
   "version": "3.8.3"
  }
 },
 "nbformat": 4,
 "nbformat_minor": 4
}
